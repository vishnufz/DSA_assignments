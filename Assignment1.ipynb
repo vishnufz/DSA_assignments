{
  "nbformat": 4,
  "nbformat_minor": 0,
  "metadata": {
    "colab": {
      "provenance": []
    },
    "kernelspec": {
      "name": "python3",
      "display_name": "Python 3"
    },
    "language_info": {
      "name": "python"
    }
  },
  "cells": [
    {
      "cell_type": "code",
      "source": [
        "#Assignment Python Basics 1\n",
        "#1\n",
        "stringin = input(\"Enter the string here: \")\n",
        "stringshort = []\n",
        "for x in stringin:\n",
        "    if x not in stringshort:\n",
        "        stringshort.append(x)\n",
        "    #print(x, stringin.count(x))\n",
        "\n",
        "\n",
        "for x in stringshort:\n",
        "    print(x, \"=\",  stringin.count(x))"
      ],
      "metadata": {
        "colab": {
          "base_uri": "https://localhost:8080/"
        },
        "id": "qW5sIojgtADN",
        "outputId": "b22a0a19-df05-43ea-a591-26d8697140c3"
      },
      "execution_count": 43,
      "outputs": [
        {
          "output_type": "stream",
          "name": "stdout",
          "text": [
            "Enter the string here: hi how are you\n",
            "h = 2\n",
            "i = 1\n",
            "  = 3\n",
            "o = 2\n",
            "w = 1\n",
            "a = 1\n",
            "r = 1\n",
            "e = 1\n",
            "y = 1\n",
            "u = 1\n"
          ]
        }
      ]
    },
    {
      "cell_type": "code",
      "source": [
        "#2\n",
        "input_string = input(\"Enter numbers separated by commas: \")\n",
        "my_list = input_string.split(\",\")\n",
        "my_list.sort()\n",
        "print(my_list[-1])"
      ],
      "metadata": {
        "colab": {
          "base_uri": "https://localhost:8080/"
        },
        "id": "msbQuuWrWsN-",
        "outputId": "d4eb1356-51b0-4aed-cf5e-fea9a499ff4f"
      },
      "execution_count": 49,
      "outputs": [
        {
          "output_type": "stream",
          "name": "stdout",
          "text": [
            "Enter numbers separated by commas: 1,2,3,4,2,1\n",
            "4\n"
          ]
        }
      ]
    },
    {
      "cell_type": "code",
      "source": [
        "#3\n",
        "def exponent(base,exp):\n",
        "  return base**exp\n",
        "\n",
        "base = float(input(\"Enter the base: \"))\n",
        "exp = float(input(\"Enter the exponent: \"))\n",
        "print(exponent(base,exp))"
      ],
      "metadata": {
        "colab": {
          "base_uri": "https://localhost:8080/"
        },
        "id": "cBn7ysC5XDwV",
        "outputId": "2b9fbb04-a875-4f7c-f59e-e1abcaa7e7c4"
      },
      "execution_count": 3,
      "outputs": [
        {
          "output_type": "stream",
          "name": "stdout",
          "text": [
            "Enter the base: 2\n",
            "Enter the exponent: 3\n",
            "8.0\n"
          ]
        }
      ]
    },
    {
      "cell_type": "code",
      "source": [
        "#4\n",
        "number = int(input(\"Enter the number: \"))\n",
        "k = 0\n",
        "for i in range(number):\n",
        "  k = i**3 + k\n",
        "\n",
        "print(k)"
      ],
      "metadata": {
        "colab": {
          "base_uri": "https://localhost:8080/"
        },
        "id": "Z-seZMBQYAYM",
        "outputId": "d658d2ab-75cf-40fe-9a33-3ade7e94faf5"
      },
      "execution_count": 5,
      "outputs": [
        {
          "output_type": "stream",
          "name": "stdout",
          "text": [
            "Enter the number: 4\n",
            "36\n"
          ]
        }
      ]
    },
    {
      "cell_type": "code",
      "source": [
        "#5\n",
        "for i in range(11):\n",
        "  if i !=0:\n",
        "    if i % 2 == 0:\n",
        "      print(i, \"Fizz\")\n",
        "    if i % 5 ==0:\n",
        "      print(i, \"Buzz\")\n",
        "    if i % 2 ==0 and i % 5 == 0:\n",
        "      print(i, \"FizzBuzz\")"
      ],
      "metadata": {
        "colab": {
          "base_uri": "https://localhost:8080/"
        },
        "id": "F8UBj9ekYw0A",
        "outputId": "18d8acf8-4b32-4d83-fb52-f1ecd98f4949"
      },
      "execution_count": 20,
      "outputs": [
        {
          "output_type": "stream",
          "name": "stdout",
          "text": [
            "2 Fizz\n",
            "4 Fizz\n",
            "5 Buzz\n",
            "6 Fizz\n",
            "8 Fizz\n",
            "10 Fizz\n",
            "10 Buzz\n",
            "10 FizzBuzz\n"
          ]
        }
      ]
    },
    {
      "cell_type": "code",
      "source": [
        "#6\n",
        "input_string = input(\"Enter the list of numbers separated by commas: \")\n",
        "my_list = input_string.split(\",\")\n",
        "print(\"Then gine list is: \")\n",
        "print(my_list)\n",
        "listcount = []\n",
        "for i in my_list:\n",
        "    #print(listx.count(i))\n",
        "    listcount.append(my_list.count(i))\n",
        "\n",
        "print(\"Maximun frequency observed is: \", max(listcount))\n",
        "position =listcount.index(max(listcount))\n",
        "#print(position)\n",
        "print(\"The item with maximum frequency is: \", my_list[position])\n"
      ],
      "metadata": {
        "colab": {
          "base_uri": "https://localhost:8080/"
        },
        "id": "UxPWICLymIrd",
        "outputId": "35ac95f4-73d5-4ee5-dc8f-8a1c6b0671b8"
      },
      "execution_count": 21,
      "outputs": [
        {
          "output_type": "stream",
          "name": "stdout",
          "text": [
            "Enter the list of numbers separated by commas: 1,2,3,4,1,2,3,1,1,5,5,5,5,6,7,8,5,3\n",
            "Then gine list is: \n",
            "['1', '2', '3', '4', '1', '2', '3', '1', '1', '5', '5', '5', '5', '6', '7', '8', '5', '3']\n",
            "Maximun frequency observed is:  5\n",
            "The item with maximum frequency is:  5\n"
          ]
        }
      ]
    },
    {
      "cell_type": "code",
      "source": [
        "#7\n",
        "list1 = [1,2,3,4,5]\n",
        "list2 = [num*num for num in list1]\n",
        "print(\"Input list is : \", list1)\n",
        "print(\"Squared list is: \", list2)\n",
        "print(\"Sum of squares: \", sum(list2))"
      ],
      "metadata": {
        "colab": {
          "base_uri": "https://localhost:8080/"
        },
        "id": "19uMkCM4n5sY",
        "outputId": "a2dc2928-fd4d-491d-b125-c960e4a0db83"
      },
      "execution_count": 24,
      "outputs": [
        {
          "output_type": "stream",
          "name": "stdout",
          "text": [
            "Input list is :  [1, 2, 3, 4, 5]\n",
            "Squared list is:  [1, 4, 9, 16, 25]\n",
            "Sum of squares:  55\n"
          ]
        }
      ]
    },
    {
      "cell_type": "code",
      "source": [
        "#8\n",
        "for x in range(1,16):\n",
        "  #print(x,\"-odd \" if x% 2==0 else x,\"-even\", end=\"\")\n",
        "  if x % 2 ==0:\n",
        "    print(x,\"-even\")\n",
        "  else:\n",
        "    print(x,\"-odd\")"
      ],
      "metadata": {
        "colab": {
          "base_uri": "https://localhost:8080/"
        },
        "id": "b0o6lNq1oUjO",
        "outputId": "8705b181-e4dd-461e-e563-ed085ffa9881"
      },
      "execution_count": 51,
      "outputs": [
        {
          "output_type": "stream",
          "name": "stdout",
          "text": [
            "1 -odd\n",
            "2 -even\n",
            "3 -odd\n",
            "4 -even\n",
            "5 -odd\n",
            "6 -even\n",
            "7 -odd\n",
            "8 -even\n",
            "9 -odd\n",
            "10 -even\n",
            "11 -odd\n",
            "12 -even\n",
            "13 -odd\n",
            "14 -even\n",
            "15 -odd\n"
          ]
        }
      ]
    },
    {
      "cell_type": "code",
      "source": [
        "#9\n",
        "tempFahrenheit = float(input(\"Enter the Temperature in Fahrenheit: \"))\n",
        "tempCelcius = 5*((tempFahrenheit-32)/9)\n",
        "print(\"Temperature in Celsius = \", tempCelcius)"
      ],
      "metadata": {
        "colab": {
          "base_uri": "https://localhost:8080/"
        },
        "id": "Qa8Hw58ap2DA",
        "outputId": "802d7c95-4fa5-48b2-d75b-ce72797b55c4"
      },
      "execution_count": 38,
      "outputs": [
        {
          "output_type": "stream",
          "name": "stdout",
          "text": [
            "Enter the Temperature in Fahrenheit: 41\n",
            "Temperature in Celsius =  5.0\n"
          ]
        }
      ]
    },
    {
      "cell_type": "code",
      "source": [
        "#10\n",
        "def factorial(number):\n",
        "    fact = 1\n",
        "    for i in range(number):\n",
        "        fact = fact*(i+1)\n",
        "\n",
        "    return fact\n",
        "number = int(input(\"Enter the number to find the factorial: \"))\n",
        "print(f\"The factorial of {number} is {factorial(number)}\")"
      ],
      "metadata": {
        "colab": {
          "base_uri": "https://localhost:8080/"
        },
        "id": "ZfJPbp4ZrypL",
        "outputId": "3c0e41d0-c359-4ff5-ce45-9d09c1e06309"
      },
      "execution_count": 42,
      "outputs": [
        {
          "output_type": "stream",
          "name": "stdout",
          "text": [
            "Enter the number to find the factorial: 3\n",
            "The factorial of 3 is 6\n"
          ]
        }
      ]
    },
    {
      "cell_type": "code",
      "execution_count": null,
      "metadata": {
        "id": "rAnqOmMpTb_p",
        "colab": {
          "base_uri": "https://localhost:8080/"
        },
        "outputId": "c33b61ca-ce2e-43d2-ec7e-bd088ccb8113"
      },
      "outputs": [
        {
          "output_type": "stream",
          "name": "stdout",
          "text": [
            "Enter the radius of the circle: 3\n",
            "Area of the circle =  28.285714285714285\n"
          ]
        }
      ],
      "source": [
        "#Assignment Python Basics 2\n",
        "#1\n",
        "radius = float(input(\"Enter the radius of the circle: \"))\n",
        "pi = 22/7\n",
        "area = pi*radius*radius\n",
        "print(\"Area of the circle = \", area)"
      ]
    },
    {
      "cell_type": "code",
      "source": [
        "#2\n",
        "# Getting inputs as a dictionary using dictionary comprehension\n",
        "keys = ['Name', 'Roll No2', 'Marks']  # List of keys for the dictionary\n",
        "my_dict = {key: input(f\"Enter the {key}: \") for key in keys}\n",
        "\n",
        "# Printing the resulting dictionary\n",
        "print(\"The student details are: \\n\")\n",
        "for key, value in my_dict.items():\n",
        "    print(f\"{key}: {value}\")"
      ],
      "metadata": {
        "colab": {
          "base_uri": "https://localhost:8080/"
        },
        "id": "exUE_bo3thcm",
        "outputId": "38fc2347-985b-439e-8068-05776b274aa5"
      },
      "execution_count": 48,
      "outputs": [
        {
          "output_type": "stream",
          "name": "stdout",
          "text": [
            "Enter the Name: Vishnu\n",
            "Enter the Roll No2: 112320\n",
            "Enter the Marks: 55\n",
            "The student details are: \n",
            "\n",
            "Name: Vishnu\n",
            "Roll No2: 112320\n",
            "Marks: 55\n"
          ]
        }
      ]
    },
    {
      "cell_type": "code",
      "source": [
        "#3\n",
        "input_string = input(\"Enter list of  numbers separated by commas: \")\n",
        "my_list = input_string.split(\",\")\n",
        "my_list.sort()\n",
        "print(\"The largest number in the list is: \", my_list[-1])"
      ],
      "metadata": {
        "colab": {
          "base_uri": "https://localhost:8080/"
        },
        "outputId": "81b6595c-2709-4a78-a399-e3a8c1c1fdc8",
        "id": "P4tKVyWk1joQ"
      },
      "execution_count": 50,
      "outputs": [
        {
          "output_type": "stream",
          "name": "stdout",
          "text": [
            "Enter list of  numbers separated by commas: 10,23,21,1,78,56,3,43\n",
            "The largest number in the list is:  78\n"
          ]
        }
      ]
    },
    {
      "cell_type": "code",
      "source": [
        "#4\n",
        "for x in range(1,11):\n",
        "  print(\"current number: \", x,\" previous number: \", x-1, \"and the Sum of the numbers = \", 2*x -1)"
      ],
      "metadata": {
        "colab": {
          "base_uri": "https://localhost:8080/"
        },
        "id": "X-pyXOFu145G",
        "outputId": "733654b4-0a98-4033-8803-781d2b0b7950"
      },
      "execution_count": 56,
      "outputs": [
        {
          "output_type": "stream",
          "name": "stdout",
          "text": [
            "current number:  1  previous number:  0 and the Sum of the numbers =  1\n",
            "current number:  2  previous number:  1 and the Sum of the numbers =  3\n",
            "current number:  3  previous number:  2 and the Sum of the numbers =  5\n",
            "current number:  4  previous number:  3 and the Sum of the numbers =  7\n",
            "current number:  5  previous number:  4 and the Sum of the numbers =  9\n",
            "current number:  6  previous number:  5 and the Sum of the numbers =  11\n",
            "current number:  7  previous number:  6 and the Sum of the numbers =  13\n",
            "current number:  8  previous number:  7 and the Sum of the numbers =  15\n",
            "current number:  9  previous number:  8 and the Sum of the numbers =  17\n",
            "current number:  10  previous number:  9 and the Sum of the numbers =  19\n"
          ]
        }
      ]
    },
    {
      "cell_type": "code",
      "source": [
        "#5\n",
        "input_string = input(\"Enter elements of the list to sum up, separated by spaces: \")\n",
        "my_list = input_string.split()\n",
        "list_5 = []\n",
        "for x in my_list:\n",
        "  if float(x) % 5 ==0:\n",
        "    list_5.append(int(x))\n",
        "\n",
        "\n",
        "print(list_5)"
      ],
      "metadata": {
        "colab": {
          "base_uri": "https://localhost:8080/"
        },
        "id": "gLxfihtW2xLv",
        "outputId": "34c88ed1-af91-4af8-8396-56b49aef9b0d"
      },
      "execution_count": 59,
      "outputs": [
        {
          "output_type": "stream",
          "name": "stdout",
          "text": [
            "Enter elements of the list to sum up, separated by spaces: 1 23 21 20 50 100 32 21\n",
            "[20, 50, 100]\n"
          ]
        }
      ]
    },
    {
      "cell_type": "code",
      "source": [
        "#6\n",
        "num = int(input(\"Enter the number: \"))\n",
        "if num == 1 or num == 2 or num == 3 or num == 5 or num == 7:\n",
        "  print(\"The number is prime: \", num)\n",
        "else:\n",
        "  if num % 2 == 0 or num % 3 == 0 or num % 5 == 0 or num % 7 == 0:\n",
        "      print(\"The number is not prime: \", num)\n",
        "  else:\n",
        "      print(\"The number is prime: \", num)\n"
      ],
      "metadata": {
        "colab": {
          "base_uri": "https://localhost:8080/"
        },
        "id": "ihsw8U903xbD",
        "outputId": "cd36cad5-dc9c-4e1c-e941-6434dc02f664"
      },
      "execution_count": 66,
      "outputs": [
        {
          "output_type": "stream",
          "name": "stdout",
          "text": [
            "Enter the number: 17\n",
            "The number is prime:  17\n"
          ]
        }
      ]
    },
    {
      "cell_type": "code",
      "source": [
        "#7\n",
        "my_list2 = [1,2,12,54,76,12,98,100,0,1,3,4]\n",
        "my_list2.reverse()\n",
        "print(my_list2, len(my_list2))\n",
        "revlist = []\n",
        "for x in range(12):\n",
        "  revlist.append(my_list2[11-x])\n",
        "\n",
        "\n",
        "print(revlist)"
      ],
      "metadata": {
        "colab": {
          "base_uri": "https://localhost:8080/"
        },
        "id": "YoFpGeFO6G75",
        "outputId": "ffde4bb3-00de-4b0b-95d0-c40f2eda161b"
      },
      "execution_count": 79,
      "outputs": [
        {
          "output_type": "stream",
          "name": "stdout",
          "text": [
            "[4, 3, 1, 0, 100, 98, 12, 76, 54, 12, 2, 1] 12\n",
            "[1, 2, 12, 54, 76, 12, 98, 100, 0, 1, 3, 4]\n"
          ]
        }
      ]
    },
    {
      "cell_type": "code",
      "source": [
        "#8\n",
        "for i in range(4):\n",
        "    print((i+1)*\"*\")\n",
        "    print(\"\\n\")"
      ],
      "metadata": {
        "colab": {
          "base_uri": "https://localhost:8080/"
        },
        "id": "BAOXDL8j8F_Y",
        "outputId": "1784e62c-a6d4-4a2c-b709-86a2eb147d33"
      },
      "execution_count": 81,
      "outputs": [
        {
          "output_type": "stream",
          "name": "stdout",
          "text": [
            "*\n",
            "\n",
            "\n",
            "**\n",
            "\n",
            "\n",
            "***\n",
            "\n",
            "\n",
            "****\n",
            "\n",
            "\n"
          ]
        }
      ]
    },
    {
      "cell_type": "code",
      "source": [
        "#9\n",
        "for i in range(5):\n",
        "    print((i+1)*\"*\")\n",
        "    print(\"\\n\")\n",
        "for i in range(-4,0):\n",
        "    num = int(((i*i)**0.5))\n",
        "    print(num*\"*\")\n",
        "    print(\"\\n\")"
      ],
      "metadata": {
        "colab": {
          "base_uri": "https://localhost:8080/"
        },
        "id": "ZiCap3iz8IkZ",
        "outputId": "c62129e8-9e8a-43b1-d5a5-fd2b99e99dbc"
      },
      "execution_count": 92,
      "outputs": [
        {
          "output_type": "stream",
          "name": "stdout",
          "text": [
            "*\n",
            "\n",
            "\n",
            "**\n",
            "\n",
            "\n",
            "***\n",
            "\n",
            "\n",
            "****\n",
            "\n",
            "\n",
            "*****\n",
            "\n",
            "\n",
            "****\n",
            "\n",
            "\n",
            "***\n",
            "\n",
            "\n",
            "**\n",
            "\n",
            "\n",
            "*\n",
            "\n",
            "\n"
          ]
        }
      ]
    }
  ]
}